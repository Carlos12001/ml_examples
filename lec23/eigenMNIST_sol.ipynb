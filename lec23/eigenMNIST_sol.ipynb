{
 "cells": [
  {
   "cell_type": "code",
   "execution_count": null,
   "metadata": {},
   "outputs": [],
   "source": [
    "from time import time\n",
    "\n",
    "import numpy as np\n",
    "import matplotlib.pyplot as plt\n",
    "\n",
    "import mnist\n",
    "from sklearn.decomposition import PCA\n",
    "\n",
    "from ipywidgets import interact, interactive\n",
    "import ipywidgets as widgets\n",
    "\n",
    "from pathlib import Path"
   ]
  },
  {
   "cell_type": "code",
   "execution_count": null,
   "metadata": {},
   "outputs": [],
   "source": [
    "import time\n",
    "from pathlib import Path\n",
    "\n",
    "tic=time.time()\n",
    "\n",
    "# Asegure que el directorio de datos existe.\n",
    "datadir='./mnist_data/'\n",
    "Path(datadir).mkdir(parents=False, exist_ok=True)\n",
    "\n",
    "# temporary_dir es una función que retorna el directorio temporal;\n",
    "mnist.temporary_dir = lambda: datadir\n",
    "\n",
    "# Prepare los datos de entrenamiento\n",
    "train_images = mnist.train_images() # Esto es un tensor m x 28 x 28\n",
    "train_labels = mnist.train_labels().astype(int)\n",
    "\n",
    "m,h,w=train_images.shape\n",
    "train_data = train_images.reshape((m,w*h)).astype(float)/255 # Esto es una matrix de m x 784"
   ]
  },
  {
   "cell_type": "code",
   "execution_count": null,
   "metadata": {},
   "outputs": [],
   "source": [
    "X=np.array(train_data)\n",
    "y=np.array(train_labels)\n",
    "\n",
    "_, axes = plt.subplots(1, 4)\n",
    "images_and_labels = list(zip(X, y))\n",
    "for ax, (image, label) in zip(axes, images_and_labels[:4]):\n",
    "    ax.set_axis_off()\n",
    "    ax.imshow(image.reshape(28,28), cmap=plt.cm.gray, interpolation='nearest')\n",
    "    ax.set_title('Training: %s' % label)"
   ]
  },
  {
   "cell_type": "code",
   "execution_count": null,
   "metadata": {},
   "outputs": [],
   "source": [
    "n_components = 150\n",
    "\n",
    "print(\"Extracting the top %d eigenfaces from %d faces\"\n",
    "      % (n_components, X.shape[0]))\n",
    "t0 = time.time()\n",
    "pca = PCA(n_components=n_components, svd_solver='randomized',\n",
    "          whiten=False).fit(X)\n",
    "print(\"done in %0.3fs\" % (time.time() - t0))\n",
    "\n",
    "eigenfaces = pca.components_.reshape((n_components, h, w))"
   ]
  },
  {
   "cell_type": "code",
   "execution_count": null,
   "metadata": {},
   "outputs": [],
   "source": [
    "print(\"Projecting the input data on the eigenfaces orthonormal basis\")\n",
    "t0 = time.time()\n",
    "X_pca = pca.transform(X)\n",
    "print(\"done in %0.3fs\" % (time.time() - t0))"
   ]
  },
  {
   "cell_type": "code",
   "execution_count": null,
   "metadata": {},
   "outputs": [],
   "source": [
    "plt.imshow(pca.mean_.reshape(h,w),cmap=plt.cm.gray)"
   ]
  },
  {
   "cell_type": "code",
   "execution_count": null,
   "metadata": {},
   "outputs": [],
   "source": [
    "def plot_gallery(images, titles, h, w, n_row=3, n_col=4):\n",
    "    \"\"\"Helper function to plot a gallery of portraits\"\"\"\n",
    "    plt.figure(figsize=(1.8 * n_col, 2.4 * n_row))\n",
    "    plt.subplots_adjust(bottom=0, left=.01, right=.99, top=.90, hspace=.35)\n",
    "    for i in range(n_row * n_col):\n",
    "        plt.subplot(n_row, n_col, i + 1)\n",
    "        plt.imshow(images[i].reshape((h, w)), cmap=plt.cm.gray)\n",
    "        plt.title(titles[i], size=12)\n",
    "        plt.xticks(())\n",
    "        plt.yticks(())\n",
    "        \n",
    "eigenface_titles = [\"eigenface %d\" % i for i in range(eigenfaces.shape[0])]\n",
    "plot_gallery(eigenfaces, eigenface_titles, h, w)\n",
    "\n",
    "plt.show()"
   ]
  },
  {
   "cell_type": "code",
   "execution_count": null,
   "metadata": {},
   "outputs": [],
   "source": [
    "@interact(c=widgets.IntSlider(min=0,max=50,step=1,value=0,continuous_update=False), \n",
    "          f=widgets.FloatSlider(min=-3,max=3,step=0.1,value=0,continuous_update=True))\n",
    "def eigenmnist(c,f):\n",
    "    preimage=pca.mean_ + f*np.sqrt(pca.explained_variance_[c])*pca.components_[c]\n",
    "    plt.imshow(preimage.reshape(28,28),cmap='gray')\n",
    "    "
   ]
  },
  {
   "cell_type": "code",
   "execution_count": null,
   "metadata": {},
   "outputs": [],
   "source": [
    "## TO-DO: Plot the spectrum (accumulated variance vs # of components)"
   ]
  },
  {
   "cell_type": "code",
   "execution_count": null,
   "metadata": {},
   "outputs": [],
   "source": [
    "## Recalculando, para tener el espectro completo:\n",
    "\n",
    "t0 = time.time()\n",
    "pca = PCA(n_components=h*w, svd_solver='randomized',\n",
    "          whiten=False).fit(X)\n",
    "print(\"done in %0.3fs\" % (time.time() - t0))"
   ]
  },
  {
   "cell_type": "code",
   "execution_count": null,
   "metadata": {},
   "outputs": [],
   "source": [
    "spectrum=np.cumsum(pca.explained_variance_)\n",
    "spectrum/=spectrum[-1]\n",
    "plt.plot(spectrum)"
   ]
  },
  {
   "cell_type": "code",
   "execution_count": null,
   "metadata": {},
   "outputs": [],
   "source": [
    "## TO-DO: Given a set of components, sliders and a button to randomly select a digit, \n",
    "## compute the principal components and reconstruct the digit, but allow with the \n",
    "## sliders to change the components."
   ]
  },
  {
   "cell_type": "code",
   "execution_count": null,
   "metadata": {},
   "outputs": [],
   "source": [
    "components.shape"
   ]
  },
  {
   "cell_type": "code",
   "execution_count": null,
   "metadata": {},
   "outputs": [],
   "source": [
    "digit=X[np.random.randint(0,m)]\n",
    "components=pca.transform(digit.reshape(1,-1)).ravel()\n",
    "plt.imshow(digit.reshape(h,w),cmap='gray')\n",
    "f=np.zeros((1,5))\n",
    "    \n",
    "# Calcule componentes del dígito excepto los eigenvectores que se estarán modificando\n",
    "base=pca.mean_ + np.matmul(components.ravel()[5:-1],pca.components_[5:-1])"
   ]
  },
  {
   "cell_type": "code",
   "execution_count": null,
   "metadata": {},
   "outputs": [],
   "source": [
    "@interact(f0=widgets.FloatSlider(min=-3,max=3,step=0.1,\n",
    "                                 value=components[0]/np.sqrt(pca.explained_variance_[0]),continuous_update=True),\n",
    "          f1=widgets.FloatSlider(min=-3,max=3,step=0.1,\n",
    "                                 value=components[1]/np.sqrt(pca.explained_variance_[1]),continuous_update=True),\n",
    "          f2=widgets.FloatSlider(min=-3,max=3,step=0.1,\n",
    "                                 value=components[2]/np.sqrt(pca.explained_variance_[2]),continuous_update=True),\n",
    "          f3=widgets.FloatSlider(min=-3,max=3,step=0.1,\n",
    "                                 value=components[3]/np.sqrt(pca.explained_variance_[3]),continuous_update=True),\n",
    "          f4=widgets.FloatSlider(min=-3,max=3,step=0.1,\n",
    "                                 value=components[4]/np.sqrt(pca.explained_variance_[4]),continuous_update=True))\n",
    "def eigenmnist(f0,f1,f2,f3,f4):\n",
    "    preimage=(base + f0*np.sqrt(pca.explained_variance_[0])*pca.components_[0] +\n",
    "                     f1*np.sqrt(pca.explained_variance_[1])*pca.components_[1] +\n",
    "                     f2*np.sqrt(pca.explained_variance_[2])*pca.components_[2] +\n",
    "                     f3*np.sqrt(pca.explained_variance_[3])*pca.components_[3] +\n",
    "                     f4*np.sqrt(pca.explained_variance_[4])*pca.components_[4] )\n",
    "    plt.imshow(preimage.reshape(28,28),cmap='gray')"
   ]
  },
  {
   "cell_type": "code",
   "execution_count": null,
   "metadata": {},
   "outputs": [],
   "source": []
  }
 ],
 "metadata": {
  "kernelspec": {
   "display_name": "Python 3",
   "language": "python",
   "name": "python3"
  },
  "language_info": {
   "codemirror_mode": {
    "name": "ipython",
    "version": 3
   },
   "file_extension": ".py",
   "mimetype": "text/x-python",
   "name": "python",
   "nbconvert_exporter": "python",
   "pygments_lexer": "ipython3",
   "version": "3.8.5"
  }
 },
 "nbformat": 4,
 "nbformat_minor": 4
}
